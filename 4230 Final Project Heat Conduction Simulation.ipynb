{
 "cells": [
  {
   "cell_type": "markdown",
   "metadata": {},
   "source": [
    "# Transient Heat Conduction\n",
    "Heat conduction is used in many applications to analyze how to keep things like computer chips and engines cool. \n",
    "\n",
    "### The heat diffusion equation:\n",
    "The most important equation in heat conduction is the heat diffusion equation. This describes the heat conduction through an object with any geometry in cartesian coordinates.\n",
    "$$ \\frac{\\partial}{\\partial x} \\left( k \\frac{\\partial T}{\\partial x} \\right) + \\frac{\\partial}{\\partial y} \\left( k \\frac{\\partial T}{\\partial y} \\right) + \\frac{\\partial}{\\partial z} \\left( k \\frac{\\partial T}{\\partial z} \\right) + \\dot{q} = \\rho c_{p}\\frac{\\partial T}{\\partial t} $$\n",
    "\n",
    "The first three terms just represent the temperature gradients through each direction, the $\\dot{q}$ term represents the internal energy generation. This would be if there is a heating element inside the solid or something else that would increase the heat generation. The right hand side of the equation describes how the temperature changes over time. "
   ]
  },
  {
   "cell_type": "markdown",
   "metadata": {},
   "source": [
    "# Two Dimensional Steady State Heat Diffusion\n",
    "The heat diffusion equation can be simplified to make it easier to handle. We will now examine a 2D steady state system with no internal generation. This gets rid of the right hand side of the equation, the z term, and the internal generation term. \n",
    "$$ \\frac{\\partial}{\\partial x} \\left( k \\frac{\\partial T}{\\partial x} \\right) + \\frac{\\partial}{\\partial y} \\left( k \\frac{\\partial T}{\\partial y} \\right) = 0 $$\n",
    "This can be simplified by dividing the whole expression through by k:\n",
    "$$ \\frac{\\partial^2 T}{\\partial x^2} +\\frac{\\partial^2 T}{\\partial y^2} = 0 $$\n",
    "\n",
    "Now that the equation has been simplified, we will take the finite divied differences of the second x and y derivatives.\n",
    "$$ \\frac{\\partial^2 T}{\\partial x^2} = \\frac{T_{i+1, j} - 2 T_{i, j} + T_{i-1, j}}{\\Delta x^2} $$\n",
    "$$ \\frac{\\partial^2 T}{\\partial y^2} = \\frac{T_{i, j+1} - 2 T_{i, j} + T_{i, j-1}}{\\Delta y^2} $$\n",
    "$$ \\frac{T_{i+1, j} + 2 T_{i, j} + T_{i-1, j}}{\\Delta x^2} + \\frac{T_{i, j+1} + 2 T_{i, j} + T_{i, j-1}}{\\Delta y^2} = 0 $$\n",
    "\n",
    "We now have a discretized model. The last thing to do is to make $\\Delta x = \\Delta y$. \n",
    "$$ \\frac{T_{i+1, j} - 2 T_{i, j} + T_{i-1, j}}{\\Delta x^2} + \\frac{T_{i, j+1} - 2 T_{i, j} + T_{i, j-1}}{\\Delta x^2} = 0 $$\n",
    "$$ T_{i+1, j} + T_{i-1, j} + T_{i, j+1} + T_{i, j-1} - 4 T{i, j} = 0 $$ \n",
    "\n",
    "If we look more closely at this final equation, we see that the temperature of any given block is the average of the blocks around it. "
   ]
  },
  {
   "cell_type": "code",
   "execution_count": 1,
   "metadata": {
    "collapsed": true
   },
   "outputs": [],
   "source": [
    "import numpy as np\n",
    "import matplotlib.pyplot as plt\n",
    "%matplotlib inline"
   ]
  },
  {
   "cell_type": "markdown",
   "metadata": {},
   "source": [
    "### Solving for steady state using matricies\n",
    "Since we do not know any of the temperatures we must simultaneously solve for the temperatures using matrix operations.\n",
    "\n",
    "We can do this with matrix operations. A neat trick that I learned in ME 3345 (Heat Transfer) is to take a flattened array of all of the temperatures and multiply this by a matrix. This is simplified by the image shown below:\n",
    "<img src='example.png', width=500px>\n",
    "\n",
    "For the sake of convenience let's say that you discretize a solid into a 5x5 matrix. This means that you will have a temperature vector that is 16x1 that you are trying to solve for. Let's start to write some equations to figure out how we will solve for the temperature matrix:\n",
    "\n",
    "$$4 T_0 = T_1 + T_5 + T_{surr} + T_{surr}$$\n",
    "$$4 T_1 = T_2 + T_6 + T_0 + T_{surr}$$\n",
    "$$4 T_2 = T_2 + T_3 + T_7 + T_{surr}$$\n",
    "\n",
    "If we move toward the middle of the solid, the pattern is a bit more cohesive:\n",
    "$$4 T_6 = T_5 + T_7 + T_{11} + T_1$$\n",
    "\n",
    "A matrix patern begins to emerge:\n",
    "\n",
    "$$\n",
    "\\begin{bmatrix}\n",
    "    -4 & 1 & 0 & 0 & 1 & \\dots  & 0 \\\\\n",
    "    1 & -4 & 1 & 0 & 0 & \\dots  & 0 \\\\\n",
    "    0 & 1 & -4 & 1 & 0 & \\dots  & 0 \\\\\n",
    "    \\vdots & \\vdots & \\vdots & \\vdots & \\vdots & \\ddots & 1 \\\\\n",
    "    0 & 0 & 0 & \\dots & 0 & 1 & -4\n",
    "\\end{bmatrix}\n",
    "$$\n",
    "\n",
    "A matrix of temperature coefficients, A, and a vector of constants, C, can be formed after observing the pattern in the form:\n",
    "$$ A \\cdot \\vec{T} = \\vec{C} $$\n",
    "And T can be solved for using:\n",
    "$$ \\vec{T} = A^{-1} \\vec{C} $$"
   ]
  },
  {
   "cell_type": "markdown",
   "metadata": {},
   "source": [
    "<b>Exercise 1:</b> Write a function to create the matrix, A, that will be used to calculate the steady state response of this system. Break the solid into n parts in each dimension."
   ]
  },
  {
   "cell_type": "code",
   "execution_count": 2,
   "metadata": {
    "collapsed": false
   },
   "outputs": [],
   "source": [
    "def create_A(n):\n",
    "    #YOUR CODE HERE\n",
    "    A = np.zeros((n*n,n*n))\n",
    "    for i in range(n*n):\n",
    "        A[i,i] = -4\n",
    "        if i % n == n-1 and i+1 < n*n:\n",
    "            A[i,i+1] = 0\n",
    "        elif i+1 < n*n:\n",
    "            A[i,i+1] = 1\n",
    "        if i % n != 0:\n",
    "            A[i,i-1] = 1\n",
    "        if i + n < n*n:\n",
    "            A[i,i+n] = 1\n",
    "        if i - n >= 0:\n",
    "            A[i,i-n] = 1\n",
    "            \n",
    "    return A"
   ]
  },
  {
   "cell_type": "code",
   "execution_count": 3,
   "metadata": {
    "collapsed": false
   },
   "outputs": [
    {
     "name": "stdout",
     "output_type": "stream",
     "text": [
      "[[-4.  1.  0.  0.  1.  0.  0.  0.  0.  0.  0.  0.  0.  0.  0.  0.]\n",
      " [ 1. -4.  1.  0.  0.  1.  0.  0.  0.  0.  0.  0.  0.  0.  0.  0.]\n",
      " [ 0.  1. -4.  1.  0.  0.  1.  0.  0.  0.  0.  0.  0.  0.  0.  0.]\n",
      " [ 0.  0.  1. -4.  0.  0.  0.  1.  0.  0.  0.  0.  0.  0.  0.  0.]\n",
      " [ 1.  0.  0.  0. -4.  1.  0.  0.  1.  0.  0.  0.  0.  0.  0.  0.]\n",
      " [ 0.  1.  0.  0.  1. -4.  1.  0.  0.  1.  0.  0.  0.  0.  0.  0.]\n",
      " [ 0.  0.  1.  0.  0.  1. -4.  1.  0.  0.  1.  0.  0.  0.  0.  0.]\n",
      " [ 0.  0.  0.  1.  0.  0.  1. -4.  0.  0.  0.  1.  0.  0.  0.  0.]\n",
      " [ 0.  0.  0.  0.  1.  0.  0.  0. -4.  1.  0.  0.  1.  0.  0.  0.]\n",
      " [ 0.  0.  0.  0.  0.  1.  0.  0.  1. -4.  1.  0.  0.  1.  0.  0.]\n",
      " [ 0.  0.  0.  0.  0.  0.  1.  0.  0.  1. -4.  1.  0.  0.  1.  0.]\n",
      " [ 0.  0.  0.  0.  0.  0.  0.  1.  0.  0.  1. -4.  0.  0.  0.  1.]\n",
      " [ 0.  0.  0.  0.  0.  0.  0.  0.  1.  0.  0.  0. -4.  1.  0.  0.]\n",
      " [ 0.  0.  0.  0.  0.  0.  0.  0.  0.  1.  0.  0.  1. -4.  1.  0.]\n",
      " [ 0.  0.  0.  0.  0.  0.  0.  0.  0.  0.  1.  0.  0.  1. -4.  1.]\n",
      " [ 0.  0.  0.  0.  0.  0.  0.  0.  0.  0.  0.  1.  0.  0.  1. -4.]]\n"
     ]
    }
   ],
   "source": [
    "N = 4\n",
    "A = create_A(N)\n",
    "print (A)"
   ]
  },
  {
   "cell_type": "markdown",
   "metadata": {},
   "source": [
    "Now that there is a temperature matrix, there must also be a constants matrix to account for the surrounding temperature on the sides and on the top.\n",
    "\n",
    "<b>Exercise 2:</b> Create a matrix of constants given T_surr and T_top."
   ]
  },
  {
   "cell_type": "code",
   "execution_count": 4,
   "metadata": {
    "collapsed": false
   },
   "outputs": [],
   "source": [
    "def create_C(n, T_surr, T_bott):\n",
    "    # YOUR CODE HERE\n",
    "    C = np.zeros((n*n, 1))\n",
    "    for i in range(n*n):\n",
    "        if i%n == n-1 or i%n ==0:\n",
    "            C[i,0] = -T_surr\n",
    "        elif i > (n*n)-n:\n",
    "            C[i,0] = -T_bott\n",
    "        elif i < n:\n",
    "            C[i,0] = -T_surr\n",
    "        if i==0 or i==n-1:\n",
    "            C[i,0] = -2*T_surr\n",
    "        if i==(n*n)-1 or i==(n*n)-n:\n",
    "            C[i,0] = -T_surr-T_bott\n",
    "            \n",
    "    return C"
   ]
  },
  {
   "cell_type": "code",
   "execution_count": 5,
   "metadata": {
    "collapsed": false
   },
   "outputs": [
    {
     "name": "stdout",
     "output_type": "stream",
     "text": [
      "[[-546.]\n",
      " [-273.]\n",
      " [-273.]\n",
      " [-546.]\n",
      " [-273.]\n",
      " [   0.]\n",
      " [   0.]\n",
      " [-273.]\n",
      " [-273.]\n",
      " [   0.]\n",
      " [   0.]\n",
      " [-273.]\n",
      " [-623.]\n",
      " [-350.]\n",
      " [-350.]\n",
      " [-623.]]\n"
     ]
    }
   ],
   "source": [
    "T_SURR = 273\n",
    "T_BOTT = 350\n",
    "\n",
    "C = create_C(N, T_SURR, T_BOTT)\n",
    "T = np.dot(np.linalg.inv(A), C)\n",
    "T_mat = np.reshape(T, (N,N))\n",
    "print (C)"
   ]
  },
  {
   "cell_type": "markdown",
   "metadata": {},
   "source": [
    "Now we will use our functions to simulate the transient heat conduction of a solid broken into 50 pieces with a surrounding temperature of 273 K and a bottom temperature of 300 K."
   ]
  },
  {
   "cell_type": "code",
   "execution_count": 6,
   "metadata": {
    "collapsed": false
   },
   "outputs": [
    {
     "data": {
      "text/plain": [
       "<matplotlib.image.AxesImage at 0x2943d2f8f98>"
      ]
     },
     "execution_count": 6,
     "metadata": {},
     "output_type": "execute_result"
    },
    {
     "data": {
      "image/png": "[encoded data removed]",
      "text/plain": [
       "<matplotlib.figure.Figure at 0x2943d260c18>"
      ]
     },
     "metadata": {},
     "output_type": "display_data"
    }
   ],
   "source": [
    "N = 50\n",
    "T_SURR = 273\n",
    "T_BOTT = 300\n",
    "\n",
    "A = create_A(N)\n",
    "C = create_C(N, T_SURR, T_BOTT)\n",
    "\n",
    "T = np.dot(np.linalg.inv(A), C)\n",
    "T_mat = np.reshape(T, (N,N))\n",
    "plt.imshow(T_mat, cmap='YlOrRd', interpolation='nearest')"
   ]
  },
  {
   "cell_type": "markdown",
   "metadata": {},
   "source": [
    "This shows the final temperature profile of this solid after it has reached steady state. Notice that the material being used never needed to be specified, as that only affects how quickly heat diffusion will occur. Also, notice how the bottom is much hotter than the other sides and how the heat has diffused evenly through."
   ]
  },
  {
   "cell_type": "markdown",
   "metadata": {},
   "source": [
    "# Two Dimensional Transient Heat Diffusion"
   ]
  },
  {
   "cell_type": "markdown",
   "metadata": {},
   "source": [
    "We will now examine a 2D transient system with no internal generation. This gets rid of the z term, and the internal generation term. We will keep the time derivative term. Since we have second partial derivatives in space and a first partial derivative in time, in order to solve this system numerically we will need to discretize the system in space, and numerically integrate it with respect to time.\n",
    "\n",
    "Here is the simplified heat diffusion equation:\n",
    "$$ \\frac{\\partial}{\\partial x} \\left( k \\frac{\\partial T}{\\partial x} \\right) + \\frac{\\partial}{\\partial y} \\left( k \\frac{\\partial T}{\\partial y} \\right) = \\rho c_p \\frac{\\partial T}{\\partial t}$$\n",
    "\n",
    "We can plug in the centered divided differences for the second derivatives in for the x and y components of this equation.\n",
    "\n",
    "$$ \\frac{T_{i+1, j} - 2 T_{i, j} + T_{i-1, j}}{\\Delta x^2} + \\frac{T_{i, j+1} - 2 T_{i, j} + T_{i, j-1}}{\\Delta x^2} = \\frac{\\rho c_p}{k} \\frac{\\partial T}{\\partial t} $$\n",
    "\n",
    "We can solve it just how we solved the equation for the steady state response:\n",
    "\n",
    "$$ T_{i+1, j} + T_{i-1, j} + T_{i, j+1} + T_{i, j-1} - 4 T{i, j} = \\Delta x^2 \\frac{\\rho c_p}{k} \\frac{\\partial T}{\\partial t} $$ \n",
    "$$ \\frac{\\partial T}{\\partial t} = \\frac{k}{\\rho c_p \\Delta x^2}\\left( T_{i+1, j} + T_{i-1, j} + T_{i, j+1} + T_{i, j-1} - 4 T{i, j} \\right)$$\n",
    "\n",
    "This is the equation that we will use to describe the temperature profile at different times for this system."
   ]
  },
  {
   "cell_type": "markdown",
   "metadata": {},
   "source": [
    "<b> Exercise 3:</b> Write a function, create_surr(), that creates a grid of size n, creates a border around it at temperatures specified by the top, bottom, left, and right inputs. Set the rest of the piece to an initial temperature of T_init."
   ]
  },
  {
   "cell_type": "code",
   "execution_count": 7,
   "metadata": {
    "collapsed": true
   },
   "outputs": [],
   "source": [
    "def create_surr(n, T_init, T_top, T_surr):\n",
    "    ## This function takes in the size of the square piece and the surrounding temperatures (in Kelvin)\n",
    "    ## It outputs a grid of zeros that have the correct surrounding temperatures\n",
    "    grid = np.zeros((n+2, n+2))\n",
    "    grid[:,0] = T_surr\n",
    "    grid[:,-1] = T_surr\n",
    "    grid[-1, :] = T_surr\n",
    "    grid[0, :] = T_top\n",
    "    grid[1:-1, 1:-1] = T_init\n",
    "    return grid"
   ]
  },
  {
   "cell_type": "markdown",
   "metadata": {},
   "source": [
    "<b> Exercise 4:</b> In order to solve this system we will discretize in space integrate numerically in time. First, we will write a function that describes the partial derivative $\\frac{\\partial T}{\\partial t}$ in order for us to use it with odeint. Complete the function, f(), so that it returns $\\frac{\\partial T}{\\partial t}$."
   ]
  },
  {
   "cell_type": "code",
   "execution_count": 8,
   "metadata": {
    "collapsed": true
   },
   "outputs": [],
   "source": [
    "from scipy.integrate import odeint"
   ]
  },
  {
   "cell_type": "code",
   "execution_count": 9,
   "metadata": {
    "collapsed": false
   },
   "outputs": [],
   "source": [
    "def f(T, t0, Tsum, rho, cp, k, dx):\n",
    "    return k/(rho*cp*dx)*(Tsum-4*T)"
   ]
  },
  {
   "cell_type": "markdown",
   "metadata": {},
   "source": [
    "<b> Exercise 5:</b> Now you will need to complete this function that steps through every cell at every time and finds the next temperature at the next time. Implement this using odeint to integrate $\\frac{\\partial T}{\\partial t}$"
   ]
  },
  {
   "cell_type": "code",
   "execution_count": 10,
   "metadata": {
    "collapsed": false
   },
   "outputs": [],
   "source": [
    "def step(grid_0, t_max, rho, cp, k, dx):\n",
    "    grid = np.zeros((grid_0.shape[0], grid_0.shape[1], t_max))\n",
    "    grid[:,:,0] = np.copy(grid_0)\n",
    "    \n",
    "    for t in range(t_max):\n",
    "        grid[:,0] = grid_0[-1,-1]\n",
    "        grid[:,-1] = grid_0[-1,-1]\n",
    "        grid[-1, :] = grid_0[-1,-1]\n",
    "        grid[0, :] = grid_0[0,0]\n",
    "\n",
    "    tlist = np.arange(t_max)\n",
    "    for t in range(1,t_max):\n",
    "        for i in range(1,grid.shape[0]-1):\n",
    "            for j in range(1, grid.shape[1]-1):\n",
    "                #YOUR CODE HERE\n",
    "                Tsum = grid[i-1, j, t-1] + grid[i, j-1, t-1] + grid[i+1, j, t-1] + grid[i, j+1, t-1]\n",
    "                grid[i, j, t] =  odeint(f, grid[i,j,t-1], tlist, (Tsum, rho, cp, k, dx*dx))[t]\n",
    "    return grid"
   ]
  },
  {
   "cell_type": "markdown",
   "metadata": {},
   "source": [
    "Now we will simulate our system using the physical properties of steel. You can try playing around with the different properties to see what the different results are. For example, if you were to run this simulation with a plastic instead of a metal, you will find that much more time will be required to cool the solid down."
   ]
  },
  {
   "cell_type": "code",
   "execution_count": 11,
   "metadata": {
    "collapsed": false
   },
   "outputs": [],
   "source": [
    "RHO_STEEL = 8050.0 #kg/m^3 \n",
    "CP_STEEL = .49 #kJ/kg*K\n",
    "K_STEEL = 43.0 # W/m*K\n",
    "n = 20\n",
    "dx = 1.0/n\n",
    "T_surr = 250 #Kelvin\n",
    "T_top = 250 #Kelvin\n",
    "T_init = 350 #Kelvin\n",
    "T_MAX = 50\n",
    "\n",
    "grid_0 = create_surr(n, T_init, T_top, T_surr)\n",
    "grid_t = step(grid_0, T_MAX, RHO_STEEL, CP_STEEL, K_STEEL, dx)"
   ]
  },
  {
   "cell_type": "code",
   "execution_count": 29,
   "metadata": {
    "collapsed": false
   },
   "outputs": [],
   "source": [
    "def display_heatmap(grid):\n",
    "    img = plt.imshow(grid, cmap='YlOrRd', interpolation='nearest', vmin=250, vmax =350 )\n",
    "    cbar = plt.colorbar(img)\n",
    "    plt.show()"
   ]
  },
  {
   "cell_type": "code",
   "execution_count": 30,
   "metadata": {
    "collapsed": false
   },
   "outputs": [
    {
     "data": {
      "image/png": "[encoded data removed]",
      "text/plain": [
       "<matplotlib.figure.Figure at 0x294421c0128>"
      ]
     },
     "metadata": {},
     "output_type": "display_data"
    },
    {
     "data": {
      "text/plain": [
       "<function __main__.sim_grid_t>"
      ]
     },
     "execution_count": 30,
     "metadata": {},
     "output_type": "execute_result"
    }
   ],
   "source": [
    "from ipywidgets import interact\n",
    "\n",
    "def sim_grid_t (t):\n",
    "    grid_t[:,:,t]\n",
    "    display_heatmap(grid_t[:,:,t])\n",
    "    \n",
    "interact (sim_grid_t\n",
    "          , t=(0,T_MAX-1)\n",
    "         )"
   ]
  },
  {
   "cell_type": "markdown",
   "metadata": {},
   "source": [
    "This widget shows the change in the temperature profile at different times. The redder the pixel, the hotter and the more white, the cooler. The solid begins to cool rather quickly around the edges and then the rate of cooling slows down a lot. When analyzing the transient heat conduction of systems using differential equations instead of numerical methods, it is found that the temperature of the system reaches steady state logarithmically."
   ]
  },
  {
   "cell_type": "markdown",
   "metadata": {},
   "source": [
    "### Uneven temperature exposure\n",
    "Now we will try to use our code to simulate a solid cooling in an environment with an uneven temperature distribution.\n",
    "\n",
    "<b>Exercise 6:</b> Using the code that we have so far, simulate an unevenly cooled system with the top temperature lower than the rest of the surroundings."
   ]
  },
  {
   "cell_type": "code",
   "execution_count": 31,
   "metadata": {
    "collapsed": false
   },
   "outputs": [],
   "source": [
    "T_surr = 325 #Kelvin\n",
    "T_top = 250 #Kelvin\n",
    "T_init = 350 #Kelvin\n",
    "\n",
    "grid_0 = create_surr(n, T_init, T_top, T_surr)\n",
    "grid_diff = step(grid_0, T_MAX, RHO_STEEL, CP_STEEL, K_STEEL, dx)"
   ]
  },
  {
   "cell_type": "code",
   "execution_count": 32,
   "metadata": {
    "collapsed": false
   },
   "outputs": [
    {
     "data": {
      "image/png": "[encoded data removed]",
      "text/plain": [
       "<matplotlib.figure.Figure at 0x294420e54a8>"
      ]
     },
     "metadata": {},
     "output_type": "display_data"
    }
   ],
   "source": [
    "def sim_grid_diff (t):\n",
    "    grid_diff[:,:,t]\n",
    "    display_heatmap(grid_diff[:,:,t])\n",
    "    \n",
    "interact (sim_grid_diff\n",
    "          , t=(0,T_MAX-1)\n",
    "         )"
   ]
  },
  {
   "cell_type": "markdown",
   "metadata": {},
   "source": [
    "When this reaches steady state, it should look pretty similar to the solid examined in part 1 of this simulation."
   ]
  },
  {
   "cell_type": "markdown",
   "metadata": {},
   "source": [
    "### Ideal Insulation\n",
    "Now we will explore the benefits of an ideal insulator. In theory, an insulator should not allow the transfer of heat across this border. This means that when the temperature at the insulation is being calculated, the insulator should have no influence over the rate of change of the adjacent temperature. \n",
    "\n",
    "We will write a function that calculates the temperature of a solid when the top of the solid is insulated. "
   ]
  },
  {
   "cell_type": "markdown",
   "metadata": {},
   "source": [
    "<b> Exercise 7:</b> Write a function that will step through each time and find the temperature for the grid when there is insulation in the first row. Remember that the insulation means that no heat transfer will take place at this boundary."
   ]
  },
  {
   "cell_type": "code",
   "execution_count": 16,
   "metadata": {
    "collapsed": true
   },
   "outputs": [],
   "source": [
    "def step_insulation_top(grid_0, t_max, rho, cp, dx):\n",
    "    grid = np.zeros((grid_0.shape[0], grid_0.shape[1], t_max))\n",
    "    grid[:,:,0] = np.copy(grid_0)\n",
    "    \n",
    "    for t in range(t_max):\n",
    "        grid[:,0] = grid_0[-1,-1]\n",
    "        grid[:,-1] = grid_0[-1,-1]\n",
    "        grid[-1, :] = grid_0[-1,-1]\n",
    "        grid[0, :] = grid_0[0,0]\n",
    "\n",
    "    tlist = np.arange(t_max)\n",
    "    for t in range(1,t_max):\n",
    "        for i in range(1,grid.shape[0]-1):\n",
    "            for j in range(1, grid.shape[1]-1):\n",
    "                #YOUR CODE HERE\n",
    "                if i==1:\n",
    "                    Tsum = 2*grid[i, j-1, t-1] + 2*grid[i, j+1, t-1]\n",
    "                else:\n",
    "                    Tsum = grid[i-1, j, t-1] + grid[i, j-1, t-1] + grid[i+1, j, t-1] + grid[i, j+1, t-1]\n",
    "                grid[i, j, t] =  odeint(f, grid[i,j,t-1], tlist, (Tsum, rho, cp, K_STEEL, dx*dx))[t]\n",
    "    return grid"
   ]
  },
  {
   "cell_type": "markdown",
   "metadata": {},
   "source": [
    "Now we will simulate the insulated system using a surrounding temperature of 300 K and an initial temperature of 350 K."
   ]
  },
  {
   "cell_type": "code",
   "execution_count": 17,
   "metadata": {
    "collapsed": false
   },
   "outputs": [],
   "source": [
    "T_surr = 275 #Kelvin\n",
    "T_init = 350 #Kelvin\n",
    "\n",
    "grid_0 = create_surr(n, T_init, T_surr, T_surr)\n",
    "grid_ins = step_insulation_top(grid_0, T_MAX, RHO_STEEL, CP_STEEL, dx)"
   ]
  },
  {
   "cell_type": "code",
   "execution_count": 33,
   "metadata": {
    "collapsed": false
   },
   "outputs": [
    {
     "data": {
      "image/png": "[encoded data removed]",
      "text/plain": [
       "<matplotlib.figure.Figure at 0x294422d0198>"
      ]
     },
     "metadata": {},
     "output_type": "display_data"
    }
   ],
   "source": [
    "def sim_grid_ins (t):\n",
    "    grid_ins[:,:,t]\n",
    "    display_heatmap(grid_ins[1:,:,t])\n",
    "    \n",
    "interact (sim_grid_ins\n",
    "          , t=(0,T_MAX-1)\n",
    "         )"
   ]
  },
  {
   "cell_type": "markdown",
   "metadata": {},
   "source": [
    "Notice how the top of the block, which is insulated, cools at a slower rate than the rest of the block."
   ]
  },
  {
   "cell_type": "markdown",
   "metadata": {
    "collapsed": true
   },
   "source": [
    "### Heat Transfer Through Irregular Shapes\n",
    "In the real world, perfectly shaped rectangles will rarely ever be dealt with. We will now investigate the heat transfer through irregular shapes. An extremely common shape in engineering is an I beam. "
   ]
  },
  {
   "cell_type": "code",
   "execution_count": 19,
   "metadata": {
    "collapsed": false
   },
   "outputs": [],
   "source": [
    "def is_base(t, row):\n",
    "    if row <= t or row >= h-t:\n",
    "        return True\n",
    "    return False\n",
    "\n",
    "def is_column(t,row):\n",
    "    if row > t and row < h-t:\n",
    "        return True\n",
    "    return False"
   ]
  },
  {
   "cell_type": "code",
   "execution_count": 20,
   "metadata": {
    "collapsed": false
   },
   "outputs": [],
   "source": [
    "def create_I_cross_sect(b, h, t, T_init, T_surr):\n",
    "    ## This function takes in the size of the square piece and the surrounding temperatures (in Kelvin)\n",
    "    ## It outputs a grid of zeros that have the correct surrounding temperatures\n",
    "    grid = np.zeros((h+1, b+2))\n",
    "#     grid[:,0] = T_surr\n",
    "#     grid[:,-1] = T_surr\n",
    "    grid[-1, :] = T_surr\n",
    "    grid[0, :] = T_top\n",
    "    mid = int(b/2)\n",
    "    for row in range(1,h):\n",
    "        if is_base(t,row):\n",
    "            grid[row, 1:-1] = T_init\n",
    "            grid[row, 0] = T_surr\n",
    "            grid[row, -1] = T_surr\n",
    "        elif is_column(t,row):\n",
    "            grid[row, mid-t:mid+t] = T_init\n",
    "            grid[row, mid-t] = T_surr\n",
    "            grid[row, mid+t] = T_surr\n",
    "#             if row == t+1 or row == h-t-1:\n",
    "            grid[row, 0:mid-t] = T_surr\n",
    "            grid[row, mid+t+1:] = T_surr\n",
    "    return grid"
   ]
  },
  {
   "cell_type": "code",
   "execution_count": 21,
   "metadata": {
    "collapsed": false
   },
   "outputs": [],
   "source": [
    "T_init = 350 \n",
    "T_top = 250 \n",
    "T_surr = 250 \n",
    "b = 30\n",
    "h = 40\n",
    "thickness = 4\n",
    "I_grid = create_I_cross_sect(b, h, thickness, T_init, T_surr)"
   ]
  },
  {
   "cell_type": "code",
   "execution_count": 22,
   "metadata": {
    "collapsed": false
   },
   "outputs": [],
   "source": [
    "def step_I(grid_0, t_max, rho, cp, dx, thick, b, h):\n",
    "    grid = np.zeros((grid_0.shape[0], grid_0.shape[1], t_max))\n",
    "    \n",
    "    for i in range(t_max):\n",
    "        grid[:,:,i] = np.copy(grid_0)\n",
    "    \n",
    "    mid = int(b/2)\n",
    "\n",
    "    tlist = np.arange(t_max)\n",
    "    for t in range(1,t_max):\n",
    "        for i in range(1,grid.shape[0]-1):\n",
    "            \n",
    "            if is_base(thick, i):\n",
    "                for j in range(1, grid.shape[1]-1):\n",
    "                    Tsum = grid[i-1, j, t-1] + grid[i, j-1, t-1] + grid[i+1, j, t-1] + grid[i, j+1, t-1]\n",
    "                    grid[i, j, t] =  odeint(f, grid[i,j,t-1], tlist, (Tsum, rho, cp, K_STEEL, dx*dx))[t]\n",
    "        \n",
    "            elif is_column(thick,i):\n",
    "                for j in range(mid-thick, mid+thick+1):\n",
    "                    if j==1:\n",
    "                        Tsum = 2*grid[i, j-1, t-1] + 2*grid[i, j+1, t-1]\n",
    "                    else:\n",
    "                        Tsum = grid[i-1, j, t-1] + grid[i, j-1, t-1] + grid[i+1, j, t-1] + grid[i, j+1, t-1]\n",
    "                    grid[i, j, t] =  odeint(f, grid[i,j,t-1], tlist, (Tsum, rho, cp, K_STEEL, dx*dx))[t]\n",
    "    return grid"
   ]
  },
  {
   "cell_type": "code",
   "execution_count": 23,
   "metadata": {
    "collapsed": false
   },
   "outputs": [],
   "source": [
    "grid_I_t = step_I(I_grid, T_MAX, RHO_STEEL, CP_STEEL, dx, thickness, b, h)"
   ]
  },
  {
   "cell_type": "code",
   "execution_count": 34,
   "metadata": {
    "collapsed": false
   },
   "outputs": [
    {
     "data": {
      "image/png": "[encoded data removed]",
      "text/plain": [
       "<matplotlib.figure.Figure at 0x29442414f28>"
      ]
     },
     "metadata": {},
     "output_type": "display_data"
    },
    {
     "data": {
      "text/plain": [
       "<function __main__.sim_grid_I>"
      ]
     },
     "execution_count": 34,
     "metadata": {},
     "output_type": "execute_result"
    }
   ],
   "source": [
    "def sim_grid_I (t):\n",
    "    grid_I_t[:,:,t]\n",
    "    display_heatmap(grid_I_t[:,:,t])\n",
    "    \n",
    "interact (sim_grid_I\n",
    "          , t=(0,T_MAX-1)\n",
    "         )"
   ]
  },
  {
   "cell_type": "code",
   "execution_count": null,
   "metadata": {
    "collapsed": false
   },
   "outputs": [],
   "source": []
  },
  {
   "cell_type": "code",
   "execution_count": null,
   "metadata": {
    "collapsed": true
   },
   "outputs": [],
   "source": []
  }
 ],
 "metadata": {
  "anaconda-cloud": {},
  "kernelspec": {
   "display_name": "Python [default]",
   "language": "python",
   "name": "python3"
  },
  "language_info": {
   "codemirror_mode": {
    "name": "ipython",
    "version": 3
   },
   "file_extension": ".py",
   "mimetype": "text/x-python",
   "name": "python",
   "nbconvert_exporter": "python",
   "pygments_lexer": "ipython3",
   "version": "3.5.2"
  },
  "widgets": {
   "state": {
    "24c087a0fff442788f5d83e33cb554da": {
     "views": [
      {
       "cell_index": 29
      }
     ]
    },
    "6c7e9e671af0451ca26e502c701c41aa": {
     "views": [
      {
       "cell_index": 36
      }
     ]
    },
    "6e7c7a1218004c99a8335140dddce0c1": {
     "views": [
      {
       "cell_index": 44
      }
     ]
    },
    "dfe2d6e3b8e94c829769b841d75b73eb": {
     "views": [
      {
       "cell_index": 25
      }
     ]
    }
   },
   "version": "1.2.0"
  }
 },
 "nbformat": 4,
 "nbformat_minor": 1
}
